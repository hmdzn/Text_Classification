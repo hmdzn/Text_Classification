{
 "cells": [
  {
   "cell_type": "markdown",
   "metadata": {},
   "source": [
    "# Import des données et nettoyage \n",
    "\n",
    "* Structure des données, type de variables\n",
    "* Résumé statistique\n",
    "* Données manquantes\n"
   ]
  },
  {
   "cell_type": "code",
   "execution_count": 1,
   "metadata": {},
   "outputs": [],
   "source": [
    "import pandas as pd\n",
    "import numpy as np\n",
    "import random\n",
    "import seaborn as sns\n",
    "import matplotlib.pyplot as plt\n",
    "from sklearn.preprocessing import LabelEncoder\n",
    "from sklearn.pipeline import make_pipeline\n",
    "from sklearn.preprocessing import RobustScaler\n",
    "from sklearn.metrics import accuracy_score\n",
    "import nltk\n",
    "from sklearn.model_selection import train_test_split, GridSearchCV, KFold, RandomizedSearchCV\n",
    "import pickle\n",
    "import warnings\n",
    "from scipy.stats import skew\n",
    "from scipy.stats import norm\n",
    "from scipy import stats\n",
    "#Model \n",
    "from sklearn.preprocessing import StandardScaler \n",
    "warnings.filterwarnings('ignore')\n",
    "sns.set(style='white', context='notebook', palette='deep')\n",
    "%config InlineBackend.figure_format = 'retina'"
   ]
  },
  {
   "cell_type": "code",
   "execution_count": 2,
   "metadata": {},
   "outputs": [],
   "source": [
    "file='C:/Users/Hamada/Documents/Docs Hamada/ML/Allianz/act_couv.csv'\n",
    "data = pd.read_csv(file, sep= ';')"
   ]
  },
  {
   "cell_type": "code",
   "execution_count": 3,
   "metadata": {},
   "outputs": [
    {
     "data": {
      "text/html": [
       "<div>\n",
       "<style scoped>\n",
       "    .dataframe tbody tr th:only-of-type {\n",
       "        vertical-align: middle;\n",
       "    }\n",
       "\n",
       "    .dataframe tbody tr th {\n",
       "        vertical-align: top;\n",
       "    }\n",
       "\n",
       "    .dataframe thead th {\n",
       "        text-align: right;\n",
       "    }\n",
       "</style>\n",
       "<table border=\"1\" class=\"dataframe\">\n",
       "  <thead>\n",
       "    <tr style=\"text-align: right;\">\n",
       "      <th></th>\n",
       "      <th>description</th>\n",
       "      <th>class</th>\n",
       "    </tr>\n",
       "  </thead>\n",
       "  <tbody>\n",
       "    <tr>\n",
       "      <th>0</th>\n",
       "      <td>entreprises de menuiserie fabricant de porte p...</td>\n",
       "      <td>False</td>\n",
       "    </tr>\n",
       "    <tr>\n",
       "      <th>1</th>\n",
       "      <td>cheminees  accessoires specialiste du fer forg...</td>\n",
       "      <td>False</td>\n",
       "    </tr>\n",
       "    <tr>\n",
       "      <th>2</th>\n",
       "      <td>bricolage  outillage reproduction de cle robin...</td>\n",
       "      <td>False</td>\n",
       "    </tr>\n",
       "    <tr>\n",
       "      <th>3</th>\n",
       "      <td>vente  pose de revetements de sols et de murs ...</td>\n",
       "      <td>False</td>\n",
       "    </tr>\n",
       "    <tr>\n",
       "      <th>4</th>\n",
       "      <td>vente  installation de chauffage   vente  inst...</td>\n",
       "      <td>True</td>\n",
       "    </tr>\n",
       "  </tbody>\n",
       "</table>\n",
       "</div>"
      ],
      "text/plain": [
       "                                         description  class\n",
       "0  entreprises de menuiserie fabricant de porte p...  False\n",
       "1  cheminees  accessoires specialiste du fer forg...  False\n",
       "2  bricolage  outillage reproduction de cle robin...  False\n",
       "3  vente  pose de revetements de sols et de murs ...  False\n",
       "4  vente  installation de chauffage   vente  inst...   True"
      ]
     },
     "execution_count": 3,
     "metadata": {},
     "output_type": "execute_result"
    }
   ],
   "source": [
    "data.head()"
   ]
  },
  {
   "cell_type": "code",
   "execution_count": 4,
   "metadata": {},
   "outputs": [
    {
     "data": {
      "text/plain": [
       "(6663, 2)"
      ]
     },
     "execution_count": 4,
     "metadata": {},
     "output_type": "execute_result"
    }
   ],
   "source": [
    "data.shape"
   ]
  },
  {
   "cell_type": "code",
   "execution_count": 5,
   "metadata": {},
   "outputs": [
    {
     "data": {
      "text/plain": [
       "'entreprises de menuiserie fabricant de porte produits portail aluminium porte d entree porte d entree en aluminium porte de garage portes d entree alu  entreprises de menuiserie portes de garage portes  portails magasins de meubles '"
      ]
     },
     "execution_count": 5,
     "metadata": {},
     "output_type": "execute_result"
    }
   ],
   "source": [
    "data.iloc[0,0]"
   ]
  },
  {
   "cell_type": "code",
   "execution_count": 6,
   "metadata": {},
   "outputs": [
    {
     "data": {
      "text/html": [
       "<div>\n",
       "<style scoped>\n",
       "    .dataframe tbody tr th:only-of-type {\n",
       "        vertical-align: middle;\n",
       "    }\n",
       "\n",
       "    .dataframe tbody tr th {\n",
       "        vertical-align: top;\n",
       "    }\n",
       "\n",
       "    .dataframe thead th {\n",
       "        text-align: right;\n",
       "    }\n",
       "</style>\n",
       "<table border=\"1\" class=\"dataframe\">\n",
       "  <thead>\n",
       "    <tr style=\"text-align: right;\">\n",
       "      <th></th>\n",
       "      <th>description</th>\n",
       "      <th>class</th>\n",
       "    </tr>\n",
       "  </thead>\n",
       "  <tbody>\n",
       "    <tr>\n",
       "      <th>count</th>\n",
       "      <td>6663</td>\n",
       "      <td>6663</td>\n",
       "    </tr>\n",
       "    <tr>\n",
       "      <th>unique</th>\n",
       "      <td>3341</td>\n",
       "      <td>2</td>\n",
       "    </tr>\n",
       "    <tr>\n",
       "      <th>top</th>\n",
       "      <td>entreprises d electricite generale</td>\n",
       "      <td>False</td>\n",
       "    </tr>\n",
       "    <tr>\n",
       "      <th>freq</th>\n",
       "      <td>566</td>\n",
       "      <td>5705</td>\n",
       "    </tr>\n",
       "  </tbody>\n",
       "</table>\n",
       "</div>"
      ],
      "text/plain": [
       "                                   description  class\n",
       "count                                     6663   6663\n",
       "unique                                    3341      2\n",
       "top     entreprises d electricite generale      False\n",
       "freq                                       566   5705"
      ]
     },
     "execution_count": 6,
     "metadata": {},
     "output_type": "execute_result"
    }
   ],
   "source": [
    "data.describe()"
   ]
  },
  {
   "cell_type": "code",
   "execution_count": 7,
   "metadata": {},
   "outputs": [
    {
     "data": {
      "text/html": [
       "<div>\n",
       "<style scoped>\n",
       "    .dataframe tbody tr th:only-of-type {\n",
       "        vertical-align: middle;\n",
       "    }\n",
       "\n",
       "    .dataframe tbody tr th {\n",
       "        vertical-align: top;\n",
       "    }\n",
       "\n",
       "    .dataframe thead tr th {\n",
       "        text-align: left;\n",
       "    }\n",
       "\n",
       "    .dataframe thead tr:last-of-type th {\n",
       "        text-align: right;\n",
       "    }\n",
       "</style>\n",
       "<table border=\"1\" class=\"dataframe\">\n",
       "  <thead>\n",
       "    <tr>\n",
       "      <th></th>\n",
       "      <th colspan=\"4\" halign=\"left\">description</th>\n",
       "    </tr>\n",
       "    <tr>\n",
       "      <th></th>\n",
       "      <th>count</th>\n",
       "      <th>unique</th>\n",
       "      <th>top</th>\n",
       "      <th>freq</th>\n",
       "    </tr>\n",
       "    <tr>\n",
       "      <th>class</th>\n",
       "      <th></th>\n",
       "      <th></th>\n",
       "      <th></th>\n",
       "      <th></th>\n",
       "    </tr>\n",
       "  </thead>\n",
       "  <tbody>\n",
       "    <tr>\n",
       "      <th>False</th>\n",
       "      <td>5705</td>\n",
       "      <td>2827</td>\n",
       "      <td>entreprises d electricite generale</td>\n",
       "      <td>561</td>\n",
       "    </tr>\n",
       "    <tr>\n",
       "      <th>True</th>\n",
       "      <td>958</td>\n",
       "      <td>580</td>\n",
       "      <td>entreprises de maconnerie</td>\n",
       "      <td>117</td>\n",
       "    </tr>\n",
       "  </tbody>\n",
       "</table>\n",
       "</div>"
      ],
      "text/plain": [
       "      description                                                    \n",
       "            count unique                                     top freq\n",
       "class                                                                \n",
       "False        5705   2827  entreprises d electricite generale      561\n",
       "True          958    580           entreprises de maconnerie      117"
      ]
     },
     "execution_count": 7,
     "metadata": {},
     "output_type": "execute_result"
    }
   ],
   "source": [
    "data.groupby('class').describe()"
   ]
  },
  {
   "cell_type": "code",
   "execution_count": 8,
   "metadata": {},
   "outputs": [
    {
     "data": {
      "text/plain": [
       "description    0.0\n",
       "class          0.0\n",
       "dtype: float64"
      ]
     },
     "execution_count": 8,
     "metadata": {},
     "output_type": "execute_result"
    }
   ],
   "source": [
    "data.isnull().sum() / data.shape[1]"
   ]
  },
  {
   "cell_type": "markdown",
   "metadata": {},
   "source": [
    "** Remarque : **\n",
    "\n",
    "On constate qu'il n y a pas de valeurs manquantes."
   ]
  },
  {
   "cell_type": "code",
   "execution_count": 9,
   "metadata": {},
   "outputs": [
    {
     "name": "stdout",
     "output_type": "stream",
     "text": [
      "<class 'pandas.core.frame.DataFrame'>\n",
      "RangeIndex: 6663 entries, 0 to 6662\n",
      "Data columns (total 2 columns):\n",
      "description    6663 non-null object\n",
      "class          6663 non-null bool\n",
      "dtypes: bool(1), object(1)\n",
      "memory usage: 58.6+ KB\n"
     ]
    }
   ],
   "source": [
    "data.info()"
   ]
  },
  {
   "cell_type": "markdown",
   "metadata": {},
   "source": [
    "# Analyse et Manipulation des données textuelles \n"
   ]
  },
  {
   "cell_type": "code",
   "execution_count": 10,
   "metadata": {},
   "outputs": [],
   "source": [
    "data['length']=data['description'].apply(len)"
   ]
  },
  {
   "cell_type": "code",
   "execution_count": 11,
   "metadata": {},
   "outputs": [
    {
     "data": {
      "text/plain": [
       "<matplotlib.axes._subplots.AxesSubplot at 0x218a3969d30>"
      ]
     },
     "execution_count": 11,
     "metadata": {},
     "output_type": "execute_result"
    },
    {
     "data": {
      "image/png": "[encoded data removed]",
      "text/plain": [
       "<Figure size 432x288 with 1 Axes>"
      ]
     },
     "metadata": {
      "image/png": {
       "height": 248,
       "width": 392
      }
     },
     "output_type": "display_data"
    }
   ],
   "source": [
    "import matplotlib.pyplot as plt\n",
    "import seaborn as sns\n",
    "%matplotlib inline\n",
    "\n",
    "data['length'].plot.hist(bins=50)"
   ]
  },
  {
   "cell_type": "code",
   "execution_count": 12,
   "metadata": {},
   "outputs": [
    {
     "data": {
      "text/plain": [
       "count    6663.000000\n",
       "mean      242.229326\n",
       "std       352.565858\n",
       "min        11.000000\n",
       "25%        29.000000\n",
       "50%        56.000000\n",
       "75%       352.000000\n",
       "max      3287.000000\n",
       "Name: length, dtype: float64"
      ]
     },
     "execution_count": 12,
     "metadata": {},
     "output_type": "execute_result"
    }
   ],
   "source": [
    "data['length'].describe()"
   ]
  },
  {
   "cell_type": "markdown",
   "metadata": {},
   "source": [
    "Certaines descriptions sont trop longues."
   ]
  },
  {
   "cell_type": "code",
   "execution_count": 13,
   "metadata": {},
   "outputs": [
    {
     "data": {
      "text/plain": [
       "'fenetres devis gratuit  menuiseries sur mesure  fenetres pvc  alu  volets roulants  battants  portes  stores fabrication sur mesure  pose de menuiseries en aluminium  pvc  bois renovation de fenetre en bois  renovation de fenetre en pvc menuiserie pvc  alu et bois  volet battant et roulant  conception d escaliers porte fenetre en pvc  pose de fenetre  renovation de fenetre  baie en aluminium double fenetre  fenetre a double vitrage  fenetre a la francaise  fenetre alu  pvc porte fenetre en aluminium  porte fenetre en bois  porte fenetre sur mesure travaux tous corps d etat  gros oeuvre  peinture  isolation  revetement de sols  de murs suivi de projet  conseils sur le choix des produits  devis sur demande dressing et mobilier sur mesure  vitrage de fenetre  volet  isolation phonique isolation thermique  porte fenetre  double vitrage  motorisation  pilotage a distance pose de fenetre  brise soleil  remplacement de vitre  baie vitree pvc  fenetre acier renovation de fenetre  garantie decennale  baie vitree coulissante  baie vitree alu fenetre double vitrage  fenetre metallique  fenetre coulissante  fenetre de toit motorisee fenetre de toit plat  fenetre de toit pvc  fenetre de toit alu  fenetre isolante fenetre de toit anti effraction  fenetre a la francaise  fenetre mixte  fenetre de toit laterale fenetre a l italienne  fenetre basculante  fenetre mixte  bois  alu  fenetre sur mesure fenetre triple vitrage  fenetre a galandage  fenetre mixte pvc alu  fenetre bois  pvc  alu reparation de baie coulissante  store  baie coulissante  baie vitree sur mesure reparation de baie coulissante  store  baie coulissante  baie vitree sur mesure changement de fenetre  fenetre a guillotine  fenetre de toit  fenetre en aluminium fenetre en bois  fenetre en pvc  fenetre sur mesure  huisserie  lucarne  porte fenetre fenetre basculante  fenetre cintree  fenetre coulissante  fenetre coulissante en pvc fenetre coupole  fenetre de toit plat  fenetre de veranda  fenetre en acier fenetre en bois sur mesure  fenetre en pvc sur mesure  fenetre fixe  fenetre industrielle fenetre interieure  fenetre isolante  fenetre metallique  fenetre oscillo battante fenetre triple vitrage  poignee de fenetre  porte fenetre coulissante pose de fenetre de toit  pose de fenetre en aluminium  pose de fenetre en pvc  pose de porte fenetre pose de fenetre en pvc renovation de fenetre renovation de fenetre en pvc pose de fenetre marques k line atlantem produits baies vitrees volets roulants portes d entrees  blindees stores en toile  enrouleurs  venitiens  a bandes verticales  plisses  textiles fenetre en pvc fenetre en aluminium fenetre sur mesure charte qualite fenetres renovation immobiliere entreprises de batiment vente  pose de revetements de sols et de murs entreprises de peinture renovation de l habitat  entreprise generale tous corps d etat  specialiste de la renovation de l habitat des equipes de pros a votre service etude de projet  etude de faisabilite  agencement  execution  conducteur de travaux  metre  coordination  suivi de chantier fenetre  menuiserie  peinture  renovation  revetement de sols  parquet  carrelage  dalle pvc  moquette  plomberie  electricite  demolition  platrerie   groupe epf bien plus qu une simple entreprise  entreprise de menuiseries sur mesure'"
      ]
     },
     "execution_count": 13,
     "metadata": {},
     "output_type": "execute_result"
    }
   ],
   "source": [
    "data[data['length']==3287]['description'].iloc[0]"
   ]
  },
  {
   "cell_type": "code",
   "execution_count": 14,
   "metadata": {},
   "outputs": [
    {
     "data": {
      "text/plain": [
       "array([<matplotlib.axes._subplots.AxesSubplot object at 0x00000218A3AAD0F0>,\n",
       "       <matplotlib.axes._subplots.AxesSubplot object at 0x00000218A3E827F0>],\n",
       "      dtype=object)"
      ]
     },
     "execution_count": 14,
     "metadata": {},
     "output_type": "execute_result"
    },
    {
     "data": {
      "image/png": "[encoded data removed]",
      "text/plain": [
       "<Figure size 864x288 with 2 Axes>"
      ]
     },
     "metadata": {
      "image/png": {
       "height": 274,
       "width": 734
      }
     },
     "output_type": "display_data"
    }
   ],
   "source": [
    "data.hist(column='length',by='class',bins=60,figsize=(12,4))"
   ]
  },
  {
   "cell_type": "markdown",
   "metadata": {},
   "source": [
    "On peut remarquer que les descriptions TRUE ont en général plus de caractères"
   ]
  },
  {
   "cell_type": "code",
   "execution_count": 15,
   "metadata": {},
   "outputs": [],
   "source": [
    "from nltk.corpus import PlaintextCorpusReader\n",
    "from nltk.tokenize.treebank import TreebankWordDetokenizer\n",
    "from nltk.corpus import stopwords\n",
    "from nltk import word_tokenize"
   ]
  },
  {
   "cell_type": "code",
   "execution_count": 16,
   "metadata": {},
   "outputs": [],
   "source": [
    "from nltk.stem.snowball import FrenchStemmer\n",
    "from nltk.corpus import stopwords\n",
    "stemmer = FrenchStemmer()\n",
    "stopwords = set(stopwords.words('french'))"
   ]
  },
  {
   "cell_type": "code",
   "execution_count": 17,
   "metadata": {},
   "outputs": [],
   "source": [
    "def review_desc(d):\n",
    "    # converting to lowercase\n",
    "    d = d.lower()\n",
    "    # removing stopwords\n",
    "    d = [word for word in d.split() if word not in stopwords]\n",
    "    # using a stemmer\n",
    "    d = \" \".join([stemmer.stem(word) for word in d])\n",
    "    return d"
   ]
  },
  {
   "cell_type": "code",
   "execution_count": 18,
   "metadata": {},
   "outputs": [],
   "source": [
    "data['description'] = data['description'].apply(review_desc)"
   ]
  },
  {
   "cell_type": "code",
   "execution_count": 19,
   "metadata": {},
   "outputs": [
    {
     "data": {
      "text/plain": [
       "'entrepris menuiser fabric port produit portail aluminium port entre port entre aluminium port garag port entre alu entrepris menuiser port garag port portail magasin meubl'"
      ]
     },
     "execution_count": 19,
     "metadata": {},
     "output_type": "execute_result"
    }
   ],
   "source": [
    "data.iloc[0,0]"
   ]
  },
  {
   "cell_type": "code",
   "execution_count": 20,
   "metadata": {},
   "outputs": [],
   "source": [
    "from sklearn.feature_extraction.text import TfidfVectorizer\n",
    "vectorizer = TfidfVectorizer()\n",
    "df = vectorizer.fit_transform(data['description'])\n",
    "\n",
    "feature_names=vectorizer.get_feature_names()\n",
    "\n",
    "dense=df.todense()\n",
    "denselist=dense.tolist()\n",
    "df=pd.DataFrame(denselist,columns=feature_names)"
   ]
  },
  {
   "cell_type": "code",
   "execution_count": 21,
   "metadata": {},
   "outputs": [
    {
     "data": {
      "text/html": [
       "<div>\n",
       "<style scoped>\n",
       "    .dataframe tbody tr th:only-of-type {\n",
       "        vertical-align: middle;\n",
       "    }\n",
       "\n",
       "    .dataframe tbody tr th {\n",
       "        vertical-align: top;\n",
       "    }\n",
       "\n",
       "    .dataframe thead th {\n",
       "        text-align: right;\n",
       "    }\n",
       "</style>\n",
       "<table border=\"1\" class=\"dataframe\">\n",
       "  <thead>\n",
       "    <tr style=\"text-align: right;\">\n",
       "      <th></th>\n",
       "      <th>00</th>\n",
       "      <th>003</th>\n",
       "      <th>01</th>\n",
       "      <th>02</th>\n",
       "      <th>03</th>\n",
       "      <th>032</th>\n",
       "      <th>04</th>\n",
       "      <th>0562967874</th>\n",
       "      <th>06</th>\n",
       "      <th>064</th>\n",
       "      <th>...</th>\n",
       "      <th>zinc</th>\n",
       "      <th>zingag</th>\n",
       "      <th>zinguer</th>\n",
       "      <th>zingueur</th>\n",
       "      <th>zodiac</th>\n",
       "      <th>zoffany</th>\n",
       "      <th>zolpan</th>\n",
       "      <th>zon</th>\n",
       "      <th>zurfluh</th>\n",
       "      <th>zyxel</th>\n",
       "    </tr>\n",
       "  </thead>\n",
       "  <tbody>\n",
       "    <tr>\n",
       "      <th>0</th>\n",
       "      <td>0.0</td>\n",
       "      <td>0.0</td>\n",
       "      <td>0.0</td>\n",
       "      <td>0.0</td>\n",
       "      <td>0.0</td>\n",
       "      <td>0.0</td>\n",
       "      <td>0.0</td>\n",
       "      <td>0.0</td>\n",
       "      <td>0.0</td>\n",
       "      <td>0.0</td>\n",
       "      <td>...</td>\n",
       "      <td>0.0</td>\n",
       "      <td>0.0</td>\n",
       "      <td>0.0</td>\n",
       "      <td>0.0</td>\n",
       "      <td>0.0</td>\n",
       "      <td>0.0</td>\n",
       "      <td>0.0</td>\n",
       "      <td>0.0</td>\n",
       "      <td>0.0</td>\n",
       "      <td>0.0</td>\n",
       "    </tr>\n",
       "    <tr>\n",
       "      <th>1</th>\n",
       "      <td>0.0</td>\n",
       "      <td>0.0</td>\n",
       "      <td>0.0</td>\n",
       "      <td>0.0</td>\n",
       "      <td>0.0</td>\n",
       "      <td>0.0</td>\n",
       "      <td>0.0</td>\n",
       "      <td>0.0</td>\n",
       "      <td>0.0</td>\n",
       "      <td>0.0</td>\n",
       "      <td>...</td>\n",
       "      <td>0.0</td>\n",
       "      <td>0.0</td>\n",
       "      <td>0.0</td>\n",
       "      <td>0.0</td>\n",
       "      <td>0.0</td>\n",
       "      <td>0.0</td>\n",
       "      <td>0.0</td>\n",
       "      <td>0.0</td>\n",
       "      <td>0.0</td>\n",
       "      <td>0.0</td>\n",
       "    </tr>\n",
       "    <tr>\n",
       "      <th>2</th>\n",
       "      <td>0.0</td>\n",
       "      <td>0.0</td>\n",
       "      <td>0.0</td>\n",
       "      <td>0.0</td>\n",
       "      <td>0.0</td>\n",
       "      <td>0.0</td>\n",
       "      <td>0.0</td>\n",
       "      <td>0.0</td>\n",
       "      <td>0.0</td>\n",
       "      <td>0.0</td>\n",
       "      <td>...</td>\n",
       "      <td>0.0</td>\n",
       "      <td>0.0</td>\n",
       "      <td>0.0</td>\n",
       "      <td>0.0</td>\n",
       "      <td>0.0</td>\n",
       "      <td>0.0</td>\n",
       "      <td>0.0</td>\n",
       "      <td>0.0</td>\n",
       "      <td>0.0</td>\n",
       "      <td>0.0</td>\n",
       "    </tr>\n",
       "    <tr>\n",
       "      <th>3</th>\n",
       "      <td>0.0</td>\n",
       "      <td>0.0</td>\n",
       "      <td>0.0</td>\n",
       "      <td>0.0</td>\n",
       "      <td>0.0</td>\n",
       "      <td>0.0</td>\n",
       "      <td>0.0</td>\n",
       "      <td>0.0</td>\n",
       "      <td>0.0</td>\n",
       "      <td>0.0</td>\n",
       "      <td>...</td>\n",
       "      <td>0.0</td>\n",
       "      <td>0.0</td>\n",
       "      <td>0.0</td>\n",
       "      <td>0.0</td>\n",
       "      <td>0.0</td>\n",
       "      <td>0.0</td>\n",
       "      <td>0.0</td>\n",
       "      <td>0.0</td>\n",
       "      <td>0.0</td>\n",
       "      <td>0.0</td>\n",
       "    </tr>\n",
       "    <tr>\n",
       "      <th>4</th>\n",
       "      <td>0.0</td>\n",
       "      <td>0.0</td>\n",
       "      <td>0.0</td>\n",
       "      <td>0.0</td>\n",
       "      <td>0.0</td>\n",
       "      <td>0.0</td>\n",
       "      <td>0.0</td>\n",
       "      <td>0.0</td>\n",
       "      <td>0.0</td>\n",
       "      <td>0.0</td>\n",
       "      <td>...</td>\n",
       "      <td>0.0</td>\n",
       "      <td>0.0</td>\n",
       "      <td>0.0</td>\n",
       "      <td>0.0</td>\n",
       "      <td>0.0</td>\n",
       "      <td>0.0</td>\n",
       "      <td>0.0</td>\n",
       "      <td>0.0</td>\n",
       "      <td>0.0</td>\n",
       "      <td>0.0</td>\n",
       "    </tr>\n",
       "  </tbody>\n",
       "</table>\n",
       "<p>5 rows × 6230 columns</p>\n",
       "</div>"
      ],
      "text/plain": [
       "    00  003   01   02   03  032   04  0562967874   06  064  ...    zinc  \\\n",
       "0  0.0  0.0  0.0  0.0  0.0  0.0  0.0         0.0  0.0  0.0  ...     0.0   \n",
       "1  0.0  0.0  0.0  0.0  0.0  0.0  0.0         0.0  0.0  0.0  ...     0.0   \n",
       "2  0.0  0.0  0.0  0.0  0.0  0.0  0.0         0.0  0.0  0.0  ...     0.0   \n",
       "3  0.0  0.0  0.0  0.0  0.0  0.0  0.0         0.0  0.0  0.0  ...     0.0   \n",
       "4  0.0  0.0  0.0  0.0  0.0  0.0  0.0         0.0  0.0  0.0  ...     0.0   \n",
       "\n",
       "   zingag  zinguer  zingueur  zodiac  zoffany  zolpan  zon  zurfluh  zyxel  \n",
       "0     0.0      0.0       0.0     0.0      0.0     0.0  0.0      0.0    0.0  \n",
       "1     0.0      0.0       0.0     0.0      0.0     0.0  0.0      0.0    0.0  \n",
       "2     0.0      0.0       0.0     0.0      0.0     0.0  0.0      0.0    0.0  \n",
       "3     0.0      0.0       0.0     0.0      0.0     0.0  0.0      0.0    0.0  \n",
       "4     0.0      0.0       0.0     0.0      0.0     0.0  0.0      0.0    0.0  \n",
       "\n",
       "[5 rows x 6230 columns]"
      ]
     },
     "execution_count": 21,
     "metadata": {},
     "output_type": "execute_result"
    }
   ],
   "source": [
    "df.head()"
   ]
  },
  {
   "cell_type": "markdown",
   "metadata": {},
   "source": [
    "# Modélisation \n",
    "\n",
    "* Validation des méthodes et tuning\n",
    "* Evaluation de la performance\n",
    "* Importance des variables\n",
    "* Comparaison des modèles\n"
   ]
  },
  {
   "cell_type": "code",
   "execution_count": 22,
   "metadata": {},
   "outputs": [],
   "source": [
    "from sklearn.model_selection import train_test_split\n",
    "X_train, X_test, y_train, y_test = train_test_split(df, data['class'], test_size = 0.2, random_state = 1)\n"
   ]
  },
  {
   "cell_type": "markdown",
   "metadata": {},
   "source": [
    "** AdaBoostClassifier **"
   ]
  },
  {
   "cell_type": "code",
   "execution_count": 23,
   "metadata": {},
   "outputs": [
    {
     "name": "stdout",
     "output_type": "stream",
     "text": [
      "AdaBoostClassifier(algorithm='SAMME.R', base_estimator=None,\n",
      "          learning_rate=1.0, n_estimators=32, random_state=None)\n"
     ]
    }
   ],
   "source": [
    "from sklearn.grid_search import GridSearchCV\n",
    "from sklearn.ensemble import AdaBoostClassifier\n",
    "\n",
    "params = { 'n_estimators': [16, 32] }\n",
    "gs = GridSearchCV(AdaBoostClassifier(n_estimators=100), params, cv=4)\n",
    "ada =gs.fit(X_train,y_train)\n",
    "print(ada.best_estimator_)\n"
   ]
  },
  {
   "cell_type": "code",
   "execution_count": 24,
   "metadata": {},
   "outputs": [
    {
     "data": {
      "text/plain": [
       "0.9099774943735934"
      ]
     },
     "execution_count": 24,
     "metadata": {},
     "output_type": "execute_result"
    }
   ],
   "source": [
    "y_pred_class = ada.best_estimator_.predict(X_test)\n",
    "\n",
    "from sklearn import metrics\n",
    "metrics.accuracy_score(y_test, y_pred_class)"
   ]
  },
  {
   "cell_type": "markdown",
   "metadata": {},
   "source": [
    "** Random Forest **"
   ]
  },
  {
   "cell_type": "code",
   "execution_count": 25,
   "metadata": {},
   "outputs": [
    {
     "data": {
      "text/plain": [
       "0.9099774943735934"
      ]
     },
     "execution_count": 25,
     "metadata": {},
     "output_type": "execute_result"
    }
   ],
   "source": [
    "from sklearn.ensemble import RandomForestClassifier\n",
    "\n",
    "params={ 'n_estimators': [16, 32] }\n",
    "gs = GridSearchCV(AdaBoostClassifier(n_estimators=100), params, cv=4)\n",
    "\n",
    "rf=gs.fit(X_train, y_train)\n",
    "\n",
    "y_pred_class = rf.best_estimator_.predict(X_test)\n",
    "\n",
    "metrics.accuracy_score(y_test, y_pred_class)"
   ]
  },
  {
   "cell_type": "markdown",
   "metadata": {},
   "source": [
    "** Logistic regression **"
   ]
  },
  {
   "cell_type": "code",
   "execution_count": 27,
   "metadata": {},
   "outputs": [],
   "source": [
    "from sklearn import linear_model"
   ]
  },
  {
   "cell_type": "code",
   "execution_count": 28,
   "metadata": {},
   "outputs": [
    {
     "name": "stdout",
     "output_type": "stream",
     "text": [
      "Wall time: 4.11 s\n"
     ]
    },
    {
     "data": {
      "text/plain": [
       "0.913728432108027"
      ]
     },
     "execution_count": 28,
     "metadata": {},
     "output_type": "execute_result"
    }
   ],
   "source": [
    "lr = linear_model.LogisticRegression()\n",
    "\n",
    "%time lr.fit(X_train, y_train)\n",
    "\n",
    "y_pred_class = lr.predict(X_test)\n",
    "\n",
    "metrics.accuracy_score(y_test, y_pred_class)"
   ]
  },
  {
   "cell_type": "markdown",
   "metadata": {},
   "source": [
    "** Lasso (Logistic Regression with L1 & L2 regularization) **"
   ]
  },
  {
   "cell_type": "code",
   "execution_count": 29,
   "metadata": {},
   "outputs": [
    {
     "name": "stdout",
     "output_type": "stream",
     "text": [
      "tuned hpyerparameters :(best parameters)  {'C': 1.0, 'penalty': 'l2'}\n",
      "accuracy : 0.9151969981238274\n"
     ]
    }
   ],
   "source": [
    "grid={\"C\":np.logspace(-3,3,7), \"penalty\":[\"l1\",\"l2\"]}# l1 lasso l2 ridge\n",
    "logreg=linear_model.LogisticRegression()\n",
    "logreg_cv=GridSearchCV(logreg,grid,cv=4)\n",
    "logreg_cv.fit(X_train,y_train)\n",
    "\n",
    "print(\"tuned hpyerparameters :(best parameters) \",logreg_cv.best_params_)\n",
    "print(\"accuracy :\",logreg_cv.best_score_)"
   ]
  },
  {
   "cell_type": "code",
   "execution_count": 30,
   "metadata": {},
   "outputs": [
    {
     "name": "stdout",
     "output_type": "stream",
     "text": [
      "score 0.913728432108027\n"
     ]
    }
   ],
   "source": [
    "logreg2=linear_model.LogisticRegression(C=1,penalty=\"l2\")\n",
    "logreg2.fit(X_train,y_train)\n",
    "print(\"score\",logreg2.score(X_test,y_test))"
   ]
  },
  {
   "cell_type": "markdown",
   "metadata": {},
   "source": [
    "** SVM **"
   ]
  },
  {
   "cell_type": "code",
   "execution_count": 32,
   "metadata": {},
   "outputs": [
    {
     "data": {
      "text/plain": [
       "SVC(C=1000, cache_size=200, class_weight=None, coef0=0.0,\n",
       "  decision_function_shape='ovr', degree=3, gamma='auto', kernel='rbf',\n",
       "  max_iter=-1, probability=False, random_state=None, shrinking=True,\n",
       "  tol=0.001, verbose=False)"
      ]
     },
     "execution_count": 32,
     "metadata": {},
     "output_type": "execute_result"
    }
   ],
   "source": [
    "from sklearn import svm\n",
    "svm = svm.SVC(C=1000)\n",
    "svm.fit(X_train, y_train)"
   ]
  },
  {
   "cell_type": "code",
   "execution_count": 34,
   "metadata": {},
   "outputs": [
    {
     "name": "stdout",
     "output_type": "stream",
     "text": [
      "[[1140    9]\n",
      " [ 107   77]]\n"
     ]
    }
   ],
   "source": [
    "y_pred = svm.predict(X_test)\n",
    "print(metrics.confusion_matrix(y_test, y_pred))"
   ]
  },
  {
   "cell_type": "code",
   "execution_count": 36,
   "metadata": {},
   "outputs": [
    {
     "data": {
      "text/plain": [
       "0.9129782445611403"
      ]
     },
     "execution_count": 36,
     "metadata": {},
     "output_type": "execute_result"
    }
   ],
   "source": [
    "metrics.accuracy_score(y_test, y_pred)"
   ]
  },
  {
   "cell_type": "code",
   "execution_count": 37,
   "metadata": {},
   "outputs": [],
   "source": [
    "#from sklearn.svm import SVC\n",
    "#params=[\n",
    "#        {'kernel': ['linear'], 'C': [1, 10]},\n",
    "#        {'kernel': ['rbf'], 'C': [1, 10], 'gamma': [0.001, 0.0001]}]\n",
    "#gs = GridSearchCV(SVC(), params, cv=4)\n",
    "#md =gs.fit(X_train,y_train)\n",
    "#print(md.best_params_)"
   ]
  },
  {
   "cell_type": "code",
   "execution_count": 38,
   "metadata": {},
   "outputs": [],
   "source": [
    "#y_pred = md.best_estimator_.predict(X_test)\n",
    "#md.accuracy_score(y_test, y_pred)"
   ]
  },
  {
   "cell_type": "markdown",
   "metadata": {},
   "source": [
    "Malheuresement, je n'ai pas pu faire le tunning des paramètres dans un temps raisonable pour SVM, à cause des performances de mon pc."
   ]
  },
  {
   "cell_type": "markdown",
   "metadata": {},
   "source": [
    "** KNN **"
   ]
  },
  {
   "cell_type": "code",
   "execution_count": 39,
   "metadata": {},
   "outputs": [
    {
     "data": {
      "text/plain": [
       "0.8964741185296324"
      ]
     },
     "execution_count": 39,
     "metadata": {},
     "output_type": "execute_result"
    }
   ],
   "source": [
    "from sklearn.neighbors import KNeighborsClassifier\n",
    "\n",
    "knn = KNeighborsClassifier(n_neighbors=11, weights='uniform')\n",
    "\n",
    "knn.fit(X_train, y_train)\n",
    "\n",
    "y_pred=knn.predict(X_test)\n",
    "metrics.accuracy_score(y_test, y_pred)"
   ]
  },
  {
   "cell_type": "code",
   "execution_count": 40,
   "metadata": {},
   "outputs": [],
   "source": [
    "#from sklearn.neighbors import KNeighborsClassifier\n",
    "#k_range = list(range(1, 31))\n",
    "#param_grid = dict(n_neighbors=k_range)\n",
    "#knn = KNeighborsClassifier()\n",
    "#grid = GridSearchCV(knn, param_grid, cv=4, scoring='accuracy')\n",
    "#grid.fit(X_train, y_train)\n",
    "#print(grid.best_score_)\n",
    "#print(grid.best_params_)"
   ]
  },
  {
   "cell_type": "markdown",
   "metadata": {},
   "source": [
    "Malheuresement, je n'ai pas pu faire le tunning des paramètres dans un temps raisonable pour KNN, à cause des performances de mon pc."
   ]
  },
  {
   "cell_type": "markdown",
   "metadata": {},
   "source": [
    "# Conclusions :\n",
    "\n"
   ]
  },
  {
   "cell_type": "markdown",
   "metadata": {},
   "source": [
    "Après avoir réalisé les différentes étapes du processus à savoir : la préparation , l'exploration, et la modélisation, nous avons appliqué les différents modèles de classification (même si je n'ai pas pu faire le tunning des paramètres pour SVM et KNN). On conclut, que la regression logistique a le meilleur  accuracy  sur le jeu de test 0.913728 "
   ]
  }
 ],
 "metadata": {
  "kernelspec": {
   "display_name": "Python 3",
   "language": "python",
   "name": "python3"
  },
  "language_info": {
   "codemirror_mode": {
    "name": "ipython",
    "version": 3
   },
   "file_extension": ".py",
   "mimetype": "text/x-python",
   "name": "python",
   "nbconvert_exporter": "python",
   "pygments_lexer": "ipython3",
   "version": "3.6.5"
  }
 },
 "nbformat": 4,
 "nbformat_minor": 2
}
